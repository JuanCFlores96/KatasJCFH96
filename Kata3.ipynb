{
 "cells": [
  {
   "cell_type": "code",
   "execution_count": 3,
   "metadata": {},
   "outputs": [
    {
     "name": "stdout",
     "output_type": "stream",
     "text": [
      "Alerta un asteroide se acerca a velocidades peligrosas\n"
     ]
    }
   ],
   "source": [
    "asteroide = 49\n",
    "\n",
    "if asteroide > 25:\n",
    "    print ('Alerta un asteroide se acerca a velocidades peligrosas')\n",
    "else:\n",
    "    print ('Sigue con tu día')\n"
   ]
  },
  {
   "cell_type": "code",
   "execution_count": 4,
   "metadata": {},
   "outputs": [
    {
     "name": "stdout",
     "output_type": "stream",
     "text": [
      "look up! ¡Hay una luz mágica en el cielo!\n"
     ]
    }
   ],
   "source": [
    "asteroide = 19\n",
    "if asteroide < 25:\n",
    "    print('look up! ¡Hay una luz mágica en el cielo!')\n",
    "elif asteroide == 20:\n",
    "    print('look up! ¡Hay una luz mágica en el cielo!')\n",
    "else:\n",
    "    print('Nada que ver aquí')\n",
    "\n"
   ]
  },
  {
   "cell_type": "code",
   "execution_count": 5,
   "metadata": {},
   "outputs": [
    {
     "name": "stdout",
     "output_type": "stream",
     "text": [
      "look up hay una luz mágica en el cielo!\n"
     ]
    }
   ],
   "source": [
    "velocidad_asteroide = 25\n",
    "tamano_asteroide = 40\n",
    "if velocidad_asteroide > 25 and tamano_asteroide >25:\n",
    "    print(' Alerta un asteroide muy peligroso viene hacia la tierra!')\n",
    "elif velocidad_asteroide >= 20:\n",
    "    print('look up hay una luz mágica en el cielo!')\n",
    "elif tamano_asteroide < 25:\n",
    "    print('nada que ver aquí :D')\n",
    "else:\n",
    "    print('Nada que ver aquí!')\n",
    "     \n"
   ]
  }
 ],
 "metadata": {
  "interpreter": {
   "hash": "7330485f156f9ba978ccd892521d5ba5eb72240e6796119d4254d3f202c89cd1"
  },
  "kernelspec": {
   "display_name": "Python 3.10.2 64-bit",
   "language": "python",
   "name": "python3"
  },
  "language_info": {
   "codemirror_mode": {
    "name": "ipython",
    "version": 3
   },
   "file_extension": ".py",
   "mimetype": "text/x-python",
   "name": "python",
   "nbconvert_exporter": "python",
   "pygments_lexer": "ipython3",
   "version": "3.10.2"
  },
  "orig_nbformat": 4
 },
 "nbformat": 4,
 "nbformat_minor": 2
}
